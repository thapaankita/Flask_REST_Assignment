{
  "nbformat": 4,
  "nbformat_minor": 0,
  "metadata": {
    "colab": {
      "provenance": []
    },
    "kernelspec": {
      "name": "python3",
      "display_name": "Python 3"
    },
    "language_info": {
      "name": "python"
    }
  },
  "cells": [
    {
      "cell_type": "markdown",
      "source": [
        "### ⚠️ Note on ngrok URLs:\n",
        "This assignment uses ngrok tunnels to expose the Flask app to the internet.  \n",
        "Since ngrok URLs are temporary, the original links may no longer work.  \n",
        "Please re-run the notebook to generate a fresh public URL if needed."
      ],
      "metadata": {
        "id": "0a7u3RBkwZyB"
      }
    },
    {
      "cell_type": "markdown",
      "source": [
        "#Basic Questions"
      ],
      "metadata": {
        "id": "Ra5iyL6aBF4R"
      }
    },
    {
      "cell_type": "markdown",
      "source": [
        "###Q1. What is a RESTful API?\n",
        "**Answer:**\n",
        "\n",
        "A RESTful API (Representational State Transfer API) is a type of web service that allows applications to communicate with each other over the internet using the HTTP protocol. It follows a specific architectural style known as REST, which emphasizes simple, stateless communication between a client and a server.\n",
        "\n",
        "###Q2. Explain the concept of API specification.\n",
        "**Answer:**\n",
        "\n",
        "An API specification is a detailed, formal document or definition that describes how an API works—what it offers, how clients can use it, and what they should expect in return.\n",
        "It acts like a blueprint or contract between the API provider (server) and the API consumer (client).\n",
        "It typically includes details like available endpoints, HTTP methods, input parameters, and response formats.\n",
        "\n",
        "###Q3. What is Flask, and why is it popular for building APIs?\n",
        "**Answer:**\n",
        "\n",
        "Flask is a lightweight and flexible web framework written in Python. It allows developers to build web applications and RESTful APIs quickly and with minimal setup.\n",
        "\n",
        "**Why Flask is Popular for Building APIs:**\n",
        "-  Lightweight - It doesn't include unnecessary features by default, so you only add what you need.\n",
        "\n",
        "- Easy to Learn - Great for beginners and students, especially with Python knowledge.\n",
        "\n",
        "- Flexible - You have full control over how you structure your app.\n",
        "\n",
        "- Built-in development server - Fast testing and debugging.\n",
        "\n",
        "- Supports extensions - You can add tools like database connectors, authentication, or input validation easily.\n",
        "\n",
        "- Strong community - Lots of tutorials, documentation, and support available.\n",
        "\n",
        "###Q4. What is routing in Flask?\n",
        "**Answer:**\n",
        "\n",
        "**Routing in Flask** refers to the process of connecting a specific URL (web address) to a function in your code. This function will be executed when someone visits that URL.\n",
        "\n",
        "It is done using the `@app.route()` decorator, which tells Flask which function to run for a given URL.\n",
        "\n",
        "**Example:**\n"
      ],
      "metadata": {
        "id": "IuOQKB2BBMxn"
      }
    },
    {
      "cell_type": "code",
      "source": [
        "from flask import Flask\n",
        "app = Flask(__name__)\n",
        "\n",
        "@app.route('/hello')\n",
        "def say_hello():\n",
        "    return 'Hello, Flask!'\n"
      ],
      "metadata": {
        "id": "4z4kiwDsEAms"
      },
      "execution_count": 13,
      "outputs": []
    },
    {
      "cell_type": "markdown",
      "source": [
        "###Q5. How do you create a simple Flask application?\n",
        "To create a simple Flask application, follow these steps:"
      ],
      "metadata": {
        "id": "Wq-h_7hBLbpl"
      }
    },
    {
      "cell_type": "code",
      "source": [
        "!pip install flask pyngrok\n",
        "\n",
        "from flask import Flask\n",
        "from pyngrok import ngrok\n",
        "import threading\n",
        "\n",
        "# Step 1: Setup Flask app\n",
        "app = Flask(__name__)\n",
        "\n",
        "@app.route(\"/\")\n",
        "def home():\n",
        "    return\n",
        "\n",
        "# Step 2: Set your ngrok auth token\n",
        "from pyngrok import conf\n",
        "conf.get_default().auth_token = # !ngrok config add-authtoken YOUR_AUTHTOKEN_HERE\n",
        "\n",
        "\n",
        "# Step 3: Start Flask in background thread\n",
        "def run_app():\n",
        "    app.run()\n",
        "\n",
        "# Step 4: Start the public URL\n",
        "public_url = ngrok.connect(5000)\n",
        "print(\"🚀 Public URL:\", public_url)\n",
        "\n",
        "# Step 5: Start the Flask app in background\n",
        "thread = threading.Thread(target=run_app)\n",
        "thread.start()\n"
      ],
      "metadata": {
        "colab": {
          "base_uri": "https://localhost:8080/"
        },
        "id": "NhMVW0oAN6HL",
        "outputId": "e3440050-a824-472e-a662-a020f0dfa6ac"
      },
      "execution_count": null,
      "outputs": [
        {
          "output_type": "stream",
          "name": "stdout",
          "text": [
            "Requirement already satisfied: flask in /usr/local/lib/python3.11/dist-packages (3.1.1)\n",
            "Collecting pyngrok\n",
            "  Downloading pyngrok-7.2.11-py3-none-any.whl.metadata (9.4 kB)\n",
            "Requirement already satisfied: blinker>=1.9.0 in /usr/local/lib/python3.11/dist-packages (from flask) (1.9.0)\n",
            "Requirement already satisfied: click>=8.1.3 in /usr/local/lib/python3.11/dist-packages (from flask) (8.2.1)\n",
            "Requirement already satisfied: itsdangerous>=2.2.0 in /usr/local/lib/python3.11/dist-packages (from flask) (2.2.0)\n",
            "Requirement already satisfied: jinja2>=3.1.2 in /usr/local/lib/python3.11/dist-packages (from flask) (3.1.6)\n",
            "Requirement already satisfied: markupsafe>=2.1.1 in /usr/local/lib/python3.11/dist-packages (from flask) (3.0.2)\n",
            "Requirement already satisfied: werkzeug>=3.1.0 in /usr/local/lib/python3.11/dist-packages (from flask) (3.1.3)\n",
            "Requirement already satisfied: PyYAML>=5.1 in /usr/local/lib/python3.11/dist-packages (from pyngrok) (6.0.2)\n",
            "Downloading pyngrok-7.2.11-py3-none-any.whl (25 kB)\n",
            "Installing collected packages: pyngrok\n",
            "Successfully installed pyngrok-7.2.11\n",
            "🚀 Public URL: NgrokTunnel: \"https://d52a-35-186-176-55.ngrok-free.app\" -> \"http://localhost:5000\"\n"
          ]
        }
      ]
    },
    {
      "cell_type": "markdown",
      "source": [
        "###Q6. What are HTTP methods used in RESTful APIs?\n",
        "**Answer:**\n",
        "\n",
        "RESTful APIs use standard HTTP methods to perform operations on resources. The most commonly used methods are:\n",
        "\n",
        "- GET - Retrieves data from the server (e.g., fetch a user profile).\n",
        "\n",
        "- POST - Sends new data to the server (e.g., create a new user).\n",
        "\n",
        "- PUT - Updates existing data (e.g., update user details).\n",
        "\n",
        "- DELETE - Removes data from the server (e.g., delete a user).\n",
        "\n",
        "- PATCH - Partially updates data (e.g., change one field of a user).\n",
        "\n",
        "Each method corresponds to a CRUD operation:\n",
        "Create → POST, Read → GET, Update → PUT/PATCH, Delete → DELETE.\n",
        "\n",
        "###Q7. What is the purpose of the @app.route() decorator in Flask?\n",
        "**Answer:**\n",
        "\n",
        "The @app.route() decorator in Flask is used to define a route — it tells the Flask app which URL should trigger a specific function. When a user visits that URL, Flask runs the associated function and returns the result.\n",
        "\n",
        "**Example:**\n",
        "\n"
      ],
      "metadata": {
        "id": "CSUehtRMNQy-"
      }
    },
    {
      "cell_type": "code",
      "source": [
        "@app.route('/')\n",
        "def homepage():\n",
        "    return \"Welcome to the homepage!\"\n"
      ],
      "metadata": {
        "id": "Owz8lvM1Vzzu"
      },
      "execution_count": 14,
      "outputs": []
    },
    {
      "cell_type": "markdown",
      "source": [
        "###Q8. What is the difference between GET and POST HTTP methods?\n",
        "**Answer:**\n",
        "\n",
        "GET is used to retrieve data from a server.\n",
        "-  The data is sent in the URL (query string).\n",
        "- It is mainly used for reading or fetching information.\n",
        "- It is visible in the browser and can be bookmarked.\n",
        "\n",
        "POST is used to send data to the server to create or update a resource.\n",
        "- The data is sent in the body of the request.\n",
        "- It is used for submitting forms or creating records.\n",
        "- It is more secure for sending sensitive data.\n",
        "\n",
        "###Q9. How do you handle errors in Flask APIs?\n",
        "**Answer:**\n",
        "\n",
        "In Flask APIs, errors are handled using:\n",
        "\n",
        "**1. Using @app.errorhandler() decorator**\n",
        "\n",
        "You can define custom responses for specific error codes like 404 Not Found or 500 Internal Server Error.\n",
        "\n"
      ],
      "metadata": {
        "id": "Zm-Mp-A-V4Gh"
      }
    },
    {
      "cell_type": "code",
      "source": [
        "from flask import Flask, jsonify\n",
        "\n",
        "app = Flask(__name__)\n",
        "\n",
        "@app.errorhandler(404)\n",
        "def not_found(error):\n",
        "    return jsonify({'error': 'Resource not found'}), 404\n"
      ],
      "metadata": {
        "id": "GDE89ngaW03H"
      },
      "execution_count": null,
      "outputs": []
    },
    {
      "cell_type": "markdown",
      "source": [
        "**2. Using try-except blocks**\n",
        "\n",
        "To catch specific errors in your route logic:"
      ],
      "metadata": {
        "id": "dYtrC5BfW39z"
      }
    },
    {
      "cell_type": "code",
      "source": [
        "@app.route('/divide')\n",
        "def divide():\n",
        "    try:\n",
        "        result = 10 / 0\n",
        "        return jsonify({'result': result})\n",
        "    except ZeroDivisionError:\n",
        "        return jsonify({'error': 'Division by zero is not allowed'}), 400\n"
      ],
      "metadata": {
        "id": "GFjdsv4fW-jj"
      },
      "execution_count": null,
      "outputs": []
    },
    {
      "cell_type": "markdown",
      "source": [
        "**3. Returning custom error messages with status codes**\n",
        "\n",
        "You can directly return a custom JSON response along with an appropriate HTTP status code from within any route function."
      ],
      "metadata": {
        "id": "Vv-qhgi9XEGW"
      }
    },
    {
      "cell_type": "code",
      "source": [
        "from flask import Flask, jsonify\n",
        "\n",
        "app = Flask(__name__)\n",
        "\n",
        "@app.route('/check')\n",
        "def check():\n",
        "    return jsonify({'error': 'Invalid input'}), 400\n"
      ],
      "metadata": {
        "id": "XARryFI0X8t_"
      },
      "execution_count": null,
      "outputs": []
    },
    {
      "cell_type": "markdown",
      "source": [
        "###Q10. How do you connect Flask to a SQL database?\n",
        "**Answer:**\n",
        "\n",
        "You can connect Flask to a SQL database using the **Flask-SQLAlchemy** extension. Below are the steps:\n",
        "\n",
        "---\n",
        "\n",
        "**Step 1: Install Flask-SQLAlchemy**\n",
        "\n",
        "Use the following command to install the required extension:"
      ],
      "metadata": {
        "id": "KNeRarCTYkHQ"
      }
    },
    {
      "cell_type": "code",
      "source": [
        "!pip install flask_sqlalchemy"
      ],
      "metadata": {
        "colab": {
          "base_uri": "https://localhost:8080/"
        },
        "id": "VCHYNMa9iEbP",
        "outputId": "5532de23-6a0a-4eb8-c6b3-17494fb58972"
      },
      "execution_count": null,
      "outputs": [
        {
          "output_type": "stream",
          "name": "stdout",
          "text": [
            "Collecting flask_sqlalchemy\n",
            "  Downloading flask_sqlalchemy-3.1.1-py3-none-any.whl.metadata (3.4 kB)\n",
            "Requirement already satisfied: flask>=2.2.5 in /usr/local/lib/python3.11/dist-packages (from flask_sqlalchemy) (3.1.1)\n",
            "Requirement already satisfied: sqlalchemy>=2.0.16 in /usr/local/lib/python3.11/dist-packages (from flask_sqlalchemy) (2.0.41)\n",
            "Requirement already satisfied: blinker>=1.9.0 in /usr/local/lib/python3.11/dist-packages (from flask>=2.2.5->flask_sqlalchemy) (1.9.0)\n",
            "Requirement already satisfied: click>=8.1.3 in /usr/local/lib/python3.11/dist-packages (from flask>=2.2.5->flask_sqlalchemy) (8.2.1)\n",
            "Requirement already satisfied: itsdangerous>=2.2.0 in /usr/local/lib/python3.11/dist-packages (from flask>=2.2.5->flask_sqlalchemy) (2.2.0)\n",
            "Requirement already satisfied: jinja2>=3.1.2 in /usr/local/lib/python3.11/dist-packages (from flask>=2.2.5->flask_sqlalchemy) (3.1.6)\n",
            "Requirement already satisfied: markupsafe>=2.1.1 in /usr/local/lib/python3.11/dist-packages (from flask>=2.2.5->flask_sqlalchemy) (3.0.2)\n",
            "Requirement already satisfied: werkzeug>=3.1.0 in /usr/local/lib/python3.11/dist-packages (from flask>=2.2.5->flask_sqlalchemy) (3.1.3)\n",
            "Requirement already satisfied: greenlet>=1 in /usr/local/lib/python3.11/dist-packages (from sqlalchemy>=2.0.16->flask_sqlalchemy) (3.2.2)\n",
            "Requirement already satisfied: typing-extensions>=4.6.0 in /usr/local/lib/python3.11/dist-packages (from sqlalchemy>=2.0.16->flask_sqlalchemy) (4.14.0)\n",
            "Downloading flask_sqlalchemy-3.1.1-py3-none-any.whl (25 kB)\n",
            "Installing collected packages: flask_sqlalchemy\n",
            "Successfully installed flask_sqlalchemy-3.1.1\n"
          ]
        }
      ]
    },
    {
      "cell_type": "markdown",
      "source": [
        "**Step 2: Import and Initialize SQLAlchemy**\n",
        "Import necessary modules and set up the database URI in your Flask app:"
      ],
      "metadata": {
        "id": "7hGDjxzWik1_"
      }
    },
    {
      "cell_type": "code",
      "source": [
        "from flask import Flask\n",
        "from flask_sqlalchemy import SQLAlchemy\n",
        "\n",
        "app = Flask(__name__)\n",
        "app.config['SQLALCHEMY_DATABASE_URI'] = 'sqlite:///example.db'  # You can replace with MySQL or PostgreSQL URI\n",
        "db = SQLAlchemy(app)\n"
      ],
      "metadata": {
        "id": "r2hkjf12iGzO"
      },
      "execution_count": null,
      "outputs": []
    },
    {
      "cell_type": "markdown",
      "source": [
        "**Step 3: Define Your Database Models**\n",
        "Create classes that define the structure of your database tables:"
      ],
      "metadata": {
        "id": "KVtbHmY7ivf-"
      }
    },
    {
      "cell_type": "code",
      "source": [
        "class User(db.Model):\n",
        "    id = db.Column(db.Integer, primary_key=True)\n",
        "    username = db.Column(db.String(80), unique=True, nullable=False)\n"
      ],
      "metadata": {
        "id": "nENbWsaciKYv"
      },
      "execution_count": null,
      "outputs": []
    },
    {
      "cell_type": "markdown",
      "source": [
        "**Step 4: Create the Database and Tables**\n",
        "Create the actual database file and tables"
      ],
      "metadata": {
        "id": "P8hV3w6bi7U-"
      }
    },
    {
      "cell_type": "code",
      "source": [
        "with app.app_context():\n",
        "    db.create_all()\n"
      ],
      "metadata": {
        "id": "R2xGWgU_iPF6"
      },
      "execution_count": null,
      "outputs": []
    },
    {
      "cell_type": "markdown",
      "source": [
        "###Q11. What is the role of Flask-SQLAlchemy?\n",
        "**Answer:**\n",
        "\n",
        "Flask-SQLAlchemy is a Flask extension that integrates the SQLAlchemy ORM (Object Relational Mapper) into Flask applications. It helps developers connect Flask apps to SQL databases and manage them using Python code instead of writing raw SQL.\n",
        "\n",
        "**Key Roles of Flask-SQLAlchemy:**\n",
        "\n",
        "- Database Connection: Connects Flask to SQL databases like SQLite, MySQL, or PostgreSQL with simple configuration.\n",
        "\n",
        "- Model Definition: Lets you define database tables as Python classes using SQLAlchemy.\n",
        "\n",
        "- Data Management: Enables easy insertion, deletion, updating, and querying of data using Python methods.\n",
        "\n",
        "- Session Handling: Automatically manages database sessions and transactions.\n",
        "\n",
        "- Schema Management: Supports commands like db.create_all() to create tables from defined models.\n",
        "\n",
        "- Migration Support: Works well with tools like Flask-Migrate for\n",
        "to handling database schema changes.\n",
        "\n",
        "###Q12. What are Flask blueprints, and how are they useful?\n",
        "**Answer:**\n",
        "\n",
        "Flask Blueprints are a way to organize your Flask application into smaller, modular components. Instead of putting all routes, views, and logic in a single file, you can group related functionality together into blueprints, making your code more manageable and scalable.\n",
        "\n",
        "**Why Use Blueprints**\n",
        "\n",
        "- Modular Structure: Breaks your app into smaller parts (like user, admin, blog modules).\n",
        "\n",
        "- Reusability: Blueprints can be reused across different projects.\n",
        "\n",
        "- Cleaner Code: Keeps each file focused on a single feature or function.\n",
        "\n",
        "- Team Collaboration: Different teams can work on different blueprints independently.\n",
        "\n",
        "- Easier Maintenance: Simplifies updates, debugging, and testing.\n",
        "\n",
        "###Q13. What is the purpose of Flask's request object?\n",
        "**Answer:**\n",
        "\n",
        "Flask's `request` object plays a crucial role in web development by allowing the server to **access and process incoming data from the client**. Whenever a user interacts with a web page, submits a form, clicks a link with query parameters, or sends an API request, all that information is passed to the server through an HTTP request. The `request` object gives Flask access to that data.\n",
        "\n",
        "It provides attributes and methods to retrieve:\n",
        "- **Form data** from `POST` requests (using `request.form`)\n",
        "- **Query parameters** from URLs in `GET` requests (using `request.args`)\n",
        "- **JSON payloads** sent in API calls (using `request.json`)\n",
        "- **Headers**, **cookies**, **files**, and other metadata about the request\n",
        "\n",
        "This object is essential for creating dynamic, interactive web applications where the server's response depends on user input or other client-provided data. Without it, handling user input in Flask would not be possible.\n",
        "\n",
        "###Q14.  How do you create a RESTful API endpoint using Flask?\n",
        "**Answer:**\n",
        "\n",
        "To create a RESTful API endpoint using Flask, you define a route using the `@app.route()` decorator and specify which HTTP methods it supports (like `GET`, `POST`, etc.). A function is then written to handle the logic for that endpoint and return a response, typically in JSON format.\n",
        "\n",
        "RESTful endpoints follow standard patterns for performing operations like retrieving data, creating new items, updating existing ones, or deleting resources. They use meaningful URL paths and respond with appropriate HTTP status codes.\n",
        "\n",
        "This approach helps organize your backend logic and makes it easy for clients (like frontend apps or mobile apps) to interact with the server."
      ],
      "metadata": {
        "id": "alrhjLS-Y7S9"
      }
    },
    {
      "cell_type": "code",
      "source": [
        "# Example: A simple RESTful API endpoint using Flask\n",
        "from flask import Flask, jsonify\n",
        "\n",
        "app = Flask(__name__)\n",
        "\n",
        "@app.route('/api/greet', methods=['GET'])\n",
        "def greet():\n",
        "    return jsonify({'message': 'Hello, this is a RESTful API endpoint!'})\n"
      ],
      "metadata": {
        "id": "PQ8fI4_8eIJS"
      },
      "execution_count": null,
      "outputs": []
    },
    {
      "cell_type": "markdown",
      "source": [
        "###Q15. What is the purpose of Flask's jsonify() function?\n",
        "**Answer:**\n",
        "\n",
        "The `jsonify()` function in Flask is used to convert Python data structures like dictionaries or lists into a valid JSON response that can be returned to the client.\n",
        "\n",
        "It automatically sets the correct content-type (`application/json`) in the response header and ensures that the data is properly formatted as JSON. This is especially useful when building RESTful APIs, where JSON is the standard data format for communication between clients and servers.\n",
        "\n",
        "Using `jsonify()` also makes your code cleaner and helps avoid manual JSON conversion or header setting.\n",
        "\n",
        "###Q16. Explain Flask's url_for() function.\n",
        "**Answer:**\n",
        "\n",
        "The `url_for()` function in Flask is used to build URLs dynamically for a given function name (endpoint). Instead of hardcoding URLs directly in your templates or code, `url_for()` ensures that links remain correct, even if the URL paths change later in your app.\n",
        "\n",
        "This function improves maintainability and reduces the chance of errors due to incorrect or outdated paths. It also supports passing arguments to build URLs with dynamic segments or query parameters.\n",
        "\n",
        "Using `url_for()` is considered a best practice in Flask, especially when working with templates or redirecting between routes.\n",
        "\n",
        "###Q17. How does Flask handle static files (CSS, JavaScript, etc.)?\n",
        "**Answer:**\n",
        "\n",
        "Flask handles static files like CSS, JavaScript, and images using a special folder named `static`. By default, Flask automatically serves any files placed inside this folder at the `/static/` URL path.\n",
        "\n",
        "You can link to these files in your HTML templates using the `url_for()` function, which helps generate the correct path to the file. This setup allows developers to organize and serve frontend assets easily alongside the backend logic.\n",
        "\n",
        "The `static` folder should be located at the root level of your Flask project.\n",
        "\n",
        "###Q18. What is an API specification, and how does it help in building a Flask API?\n",
        "**Answer:**\n",
        "\n",
        "An API specification is a formal, detailed document that outlines how an API works. It defines the available endpoints, request methods (like GET, POST), expected input parameters, data formats, and response structures.\n",
        "\n",
        "In the context of building a Flask API, an API specification acts like a blueprint or contract between the developer (API provider) and the client (API consumer). It helps ensure that everyone interacting with the API understands what to send and what to expect in return.\n",
        "\n",
        "Having a clear API specification improves collaboration, reduces confusion, and makes it easier to test, document, and maintain the API over time.\n",
        "\n",
        "###Q19. What are HTTP status codes, and why are they important in a Flask API?\n",
        "**Answer:**\n",
        "\n",
        "HTTP status codes are standardized three-digit numbers returned by a web server in response to a client’s request. They indicate the outcome of the request—whether it was successful, redirected, failed, or encountered a server error.\n",
        "\n",
        "In a Flask API, using appropriate status codes is crucial because they help the client understand the result of their request. For example:\n",
        "- `200 OK` means the request was successful.\n",
        "- `201 Created` is used when a new resource is created.\n",
        "- `400 Bad Request` indicates a client-side error.\n",
        "- `404 Not Found` shows that the requested resource doesn’t exist.\n",
        "- `500 Internal Server Error` signals a server-side issue.\n",
        "\n",
        "Proper use of status codes enhances communication between the API and its users, making debugging and integration easier.\n",
        "\n",
        "###Q20. How do you handle POST requests in Flask?\n",
        "**Answer:**\n",
        "\n",
        "In Flask, POST requests are handled by defining a route that accepts the `POST` method using the `@app.route()` decorator. This is commonly used when a client wants to send data to the server, such as submitting a form or adding a new resource.\n",
        "\n",
        "You can access the data sent in the POST request using the `request` object provided by Flask. This data can be in different formats, like form data or JSON.\n",
        "\n",
        "To handle POST requests effectively, you typically:\n",
        "1. Set the route to accept `POST` methods.\n",
        "2. Use `request.form` for form data or `request.get_json()` for JSON data.\n",
        "3. Process and respond appropriately.\n",
        "\n",
        "###Q21. How would you secure a Flask API?\n",
        "**Answer:**\n",
        "\n",
        "Securing a Flask API is essential to protect data, prevent unauthorized access, and ensure safe communication. Here are some common ways to secure a Flask API:\n",
        "\n",
        "1. **Authentication and Authorization**:  \n",
        "   Use methods like API keys, JWT (JSON Web Tokens), or OAuth to verify user identity and control access to specific endpoints.\n",
        "\n",
        "2. **Input Validation and Sanitization**:  \n",
        "   Always validate and sanitize incoming data to prevent attacks like SQL injection and cross-site scripting (XSS).\n",
        "\n",
        "3. **Use HTTPS**:  \n",
        "   Ensure that all communication between the client and server is encrypted by using HTTPS instead of HTTP.\n",
        "\n",
        "4. **Rate Limiting**:  \n",
        "   Limit the number of requests a client can make in a given period to prevent abuse and denial-of-service (DoS) attacks.\n",
        "\n",
        "5. **Error Handling**:  \n",
        "   Avoid exposing detailed error messages to the client. Instead, return generic messages and log the full details securely on the server.\n",
        "\n",
        "6. **CORS Configuration**:  \n",
        "   Properly configure Cross-Origin Resource Sharing (CORS) to allow requests only from trusted origins.\n",
        "\n",
        "7. **Use Secure Headers**:  \n",
        "   Add security-related HTTP headers (e.g., `Content-Security-Policy`, `X-Frame-Options`, `Strict-Transport-Security`) to enhance protection.\n",
        "\n",
        "###Q22. What is the significance of the Flask-RESTful extension?\n",
        "**Answer:**\n",
        "\n",
        "The Flask-RESTful extension is a powerful tool that simplifies the process of building RESTful APIs using Flask. It provides helpful abstractions and features that reduce boilerplate code and make API development more organized and maintainable.\n",
        "\n",
        "**Key benefits include:**\n",
        "\n",
        "1. **Resource-based structure**:  \n",
        "   It encourages organizing your API endpoints as classes using the `Resource` class, which makes the code more modular and easier to manage.\n",
        "\n",
        "2. **Automatic HTTP method handling**:  \n",
        "   You can define methods like `get()`, `post()`, `put()`, and `delete()` inside the resource class, and Flask-RESTful automatically maps them to the correct HTTP methods.\n",
        "\n",
        "3. **Request parsing and validation**:  \n",
        "   It includes `reqparse` to easily extract and validate request arguments from incoming data.\n",
        "\n",
        "4. **Clean routing**:  \n",
        "   Flask-RESTful makes it easy to add and manage routes using the `Api` object, which helps keep the main Flask app cleaner.\n",
        "\n",
        "###Q23. What is the role of Flask's session object?\n",
        "**Answer:**\n",
        "\n",
        "lask's `session` object is used to store information about a user's session across multiple requests. It allows you to keep track of data (such as user login status or preferences) between different pages and interactions, without requiring the user to re-authenticate or re-enter data.\n",
        "\n",
        "The `session` behaves like a Python dictionary and stores data on a per-user basis using secure cookies. This means data is stored on the client side but is cryptographically signed to prevent tampering. Flask uses a secret key to ensure the integrity and confidentiality of the session data.\n",
        "\n",
        "**Key roles of the session object:**\n",
        "\n",
        "- Maintains user-specific data during a browsing session.\n",
        "- Supports temporary storage for values like user IDs, shopping cart contents, or settings.\n",
        "- Helps implement authentication by storing login state.\n",
        "\n",
        "\n",
        "\n",
        "\n",
        "\n",
        "\n"
      ],
      "metadata": {
        "id": "WK1N9KlVeQKO"
      }
    },
    {
      "cell_type": "markdown",
      "source": [
        "#Practical Questions"
      ],
      "metadata": {
        "id": "fr1IoY8XhRQ9"
      }
    },
    {
      "cell_type": "markdown",
      "source": [
        "###Q1. How do you create a basic Flask application?\n"
      ],
      "metadata": {
        "id": "W3scdh8_YwXh"
      }
    },
    {
      "cell_type": "code",
      "source": [
        "# Step 1: Install Flask and pyngrok silently\n",
        "!pip install flask pyngrok --quiet\n",
        "\n",
        "#Step 2: Import required libraries\n",
        "from flask import Flask\n",
        "from pyngrok import ngrok\n",
        "import threading\n",
        "\n",
        "#Step 3: Create a Flask app instance\n",
        "app = Flask(__name__)\n",
        "\n",
        "# Step 4: Define a basic route\n",
        "@app.route(\"/\")\n",
        "def index():\n",
        "    return\n",
        "\n",
        "# Step 5: Function to run the Flask app\n",
        "def run_app():\n",
        "    app.run()\n",
        "\n",
        "# Step 6: Start ngrok tunnel on port 5000\n",
        "public_url = ngrok.connect(5000)\n",
        "print(\"🌐 Public ngrok URL:\", public_url)\n",
        "\n",
        "# Step 7: Start Flask app in a background thread so Colab stays responsive\n",
        "thread = threading.Thread(target=run_app)\n",
        "thread.start()\n"
      ],
      "metadata": {
        "colab": {
          "base_uri": "https://localhost:8080/"
        },
        "id": "Mg3lNA6kxJUI",
        "outputId": "3352e403-ebc5-4fc2-a0d6-559e3482bd15"
      },
      "execution_count": null,
      "outputs": [
        {
          "output_type": "stream",
          "name": "stdout",
          "text": [
            "🌐 Public ngrok URL: NgrokTunnel: \"https://031f-35-186-176-55.ngrok-free.app\" -> \"http://localhost:5000\"\n",
            " * Serving Flask app '__main__'\n",
            " * Debug mode: off\n"
          ]
        }
      ]
    },
    {
      "cell_type": "markdown",
      "source": [
        "###Q2. How do you serve static files like images or CSS in Flask?\n",
        "To serve a static image (Cat.jpg) stored in Google Drive, using Flask in Google Colab, and make it publicly accessible via ngrok.\n",
        "\n",
        "**Step 1: Mount Google Drive**"
      ],
      "metadata": {
        "id": "BSxz4AWTpXc_"
      }
    },
    {
      "cell_type": "code",
      "source": [
        "from google.colab import drive\n",
        "drive.mount('/content/drive')\n"
      ],
      "metadata": {
        "colab": {
          "base_uri": "https://localhost:8080/"
        },
        "id": "QIgDxGh1BqKC",
        "outputId": "498553c5-e810-484a-fb03-6a8343f5dd69"
      },
      "execution_count": null,
      "outputs": [
        {
          "output_type": "stream",
          "name": "stdout",
          "text": [
            "Mounted at /content/drive\n"
          ]
        }
      ]
    },
    {
      "cell_type": "markdown",
      "source": [
        "**Step 2: Check the image file**"
      ],
      "metadata": {
        "id": "SbsiZOmkMmAL"
      }
    },
    {
      "cell_type": "code",
      "source": [
        "!ls \"/content/drive/MyDrive/Flask_Static\"\n"
      ],
      "metadata": {
        "colab": {
          "base_uri": "https://localhost:8080/"
        },
        "id": "d1RTpahdI-aT",
        "outputId": "646a6208-7477-4f4c-c586-6cd7ff3c403f"
      },
      "execution_count": null,
      "outputs": [
        {
          "output_type": "stream",
          "name": "stdout",
          "text": [
            "Cat.jpg\n"
          ]
        }
      ]
    },
    {
      "cell_type": "markdown",
      "source": [
        "**Step 3: Copy image from Drive to local static/ folder**"
      ],
      "metadata": {
        "id": "d32V-xttMrv0"
      }
    },
    {
      "cell_type": "code",
      "source": [
        "import os\n",
        "import shutil\n",
        "\n",
        "\n",
        "os.makedirs('static', exist_ok=True)\n",
        "\n",
        "\n",
        "shutil.copy('/content/drive/MyDrive/Flask_Static/Cat.jpg', 'static/Cat.jpg')\n"
      ],
      "metadata": {
        "colab": {
          "base_uri": "https://localhost:8080/",
          "height": 36
        },
        "id": "eEKbrPzwJMKb",
        "outputId": "aa6180e8-7b82-4cf5-904e-9cb467f9e594"
      },
      "execution_count": null,
      "outputs": [
        {
          "output_type": "execute_result",
          "data": {
            "text/plain": [
              "'static/Cat.jpg'"
            ],
            "application/vnd.google.colaboratory.intrinsic+json": {
              "type": "string"
            }
          },
          "metadata": {},
          "execution_count": 11
        }
      ]
    },
    {
      "cell_type": "markdown",
      "source": [
        "**Step 4: Install ngrok**"
      ],
      "metadata": {
        "id": "ANpWkzLfM4G8"
      }
    },
    {
      "cell_type": "code",
      "source": [
        "!pip install pyngrok\n"
      ],
      "metadata": {
        "colab": {
          "base_uri": "https://localhost:8080/"
        },
        "id": "oJfsw3tjD1_f",
        "outputId": "5bcb861b-9beb-4ffc-92db-c7f585d71e7e"
      },
      "execution_count": null,
      "outputs": [
        {
          "output_type": "stream",
          "name": "stdout",
          "text": [
            "Collecting pyngrok\n",
            "  Downloading pyngrok-7.2.11-py3-none-any.whl.metadata (9.4 kB)\n",
            "Requirement already satisfied: PyYAML>=5.1 in /usr/local/lib/python3.11/dist-packages (from pyngrok) (6.0.2)\n",
            "Downloading pyngrok-7.2.11-py3-none-any.whl (25 kB)\n",
            "Installing collected packages: pyngrok\n",
            "Successfully installed pyngrok-7.2.11\n"
          ]
        }
      ]
    },
    {
      "cell_type": "markdown",
      "source": [
        "**Step 5: Add your ngrok authtoken**"
      ],
      "metadata": {
        "id": "BrCXAAUYNASL"
      }
    },
    {
      "cell_type": "code",
      "source": [
        "# !ngrok config add-authtoken YOUR_AUTHTOKEN_HERE\n",
        "\n"
      ],
      "metadata": {
        "id": "JuO1EfVwEejP"
      },
      "execution_count": null,
      "outputs": []
    },
    {
      "cell_type": "markdown",
      "source": [
        "**Step 6: Start Flask app and connect with ngrok**"
      ],
      "metadata": {
        "id": "C1NLTfQcNE2h"
      }
    },
    {
      "cell_type": "code",
      "source": [
        "from flask import Flask\n",
        "from pyngrok import ngrok\n",
        "\n",
        "\n",
        "app = Flask(__name__)\n",
        "\n",
        "\n",
        "@app.route('/')\n",
        "def home():\n",
        "    return '''\n",
        "        <h1>🐱 Cat Image</h1>\n",
        "        <img src=\"/static/Cat.jpg\" width=\"300\">\n",
        "    '''\n",
        "\n",
        "\n",
        "public_url = ngrok.connect(5000)\n",
        "print(\"🌍 Public URL:\", public_url)\n",
        "\n",
        "app.run(port=5000)\n"
      ],
      "metadata": {
        "colab": {
          "base_uri": "https://localhost:8080/"
        },
        "id": "kQe1jocSNhrX",
        "outputId": "cdc03c04-3187-4cbb-a296-f118376202f5"
      },
      "execution_count": null,
      "outputs": [
        {
          "output_type": "stream",
          "name": "stdout",
          "text": [
            "🌍 Public URL: NgrokTunnel: \"https://0ad8-35-230-97-239.ngrok-free.app\" -> \"http://localhost:5000\"\n",
            " * Serving Flask app '__main__'\n",
            " * Debug mode: off\n"
          ]
        },
        {
          "output_type": "stream",
          "name": "stderr",
          "text": [
            "INFO:werkzeug:\u001b[31m\u001b[1mWARNING: This is a development server. Do not use it in a production deployment. Use a production WSGI server instead.\u001b[0m\n",
            " * Running on http://127.0.0.1:5000\n",
            "INFO:werkzeug:\u001b[33mPress CTRL+C to quit\u001b[0m\n"
          ]
        }
      ]
    },
    {
      "cell_type": "markdown",
      "source": [
        "###Q3. How do you define different routes with different HTTP methods in Flask?\n",
        "This Flask app demonstrates how to define different routes that respond to different HTTP methods:\n",
        "\n",
        "1. @app.route('/', methods=['GET'])\n",
        "\n",
        "This route listens for GET requests.\n",
        "\n",
        "When you visit the root URL (like http://localhost:5000/), it returns:\n",
        "\n",
        "vbnet\n",
        "Copy\n",
        "Edit\n",
        "This is a GET request!\n",
        "2. @app.route('/submit', methods=['POST'])\n",
        "\n",
        "This route listens for POST requests only.\n"
      ],
      "metadata": {
        "id": "FFGPE-bgOhdG"
      }
    },
    {
      "cell_type": "code",
      "source": [
        "from flask import Flask, request\n",
        "\n",
        "app = Flask(__name__)\n",
        "\n",
        "@app.route('/', methods=['GET'])\n",
        "def home():\n",
        "    return 'This is a GET request!'\n",
        "\n",
        "@app.route('/submit', methods=['POST'])\n",
        "def submit():\n",
        "    return 'This is a POST request!'\n"
      ],
      "metadata": {
        "id": "EUAH0yn2Pj_s"
      },
      "execution_count": null,
      "outputs": []
    },
    {
      "cell_type": "markdown",
      "source": [
        "###Q4. How do you render HTML templates in Flask?\n",
        "  **Step 1: Install pyngrok by running this first:**"
      ],
      "metadata": {
        "id": "3rIUL-xzRfLI"
      }
    },
    {
      "cell_type": "code",
      "source": [
        "!pip install pyngrok\n"
      ],
      "metadata": {
        "id": "sYUONtdxRoAR",
        "colab": {
          "base_uri": "https://localhost:8080/"
        },
        "outputId": "fc43ecbe-55dd-4038-9d6e-d798c3c5efb0"
      },
      "execution_count": null,
      "outputs": [
        {
          "output_type": "stream",
          "name": "stdout",
          "text": [
            "Collecting pyngrok\n",
            "  Downloading pyngrok-7.2.11-py3-none-any.whl.metadata (9.4 kB)\n",
            "Requirement already satisfied: PyYAML>=5.1 in /usr/local/lib/python3.11/dist-packages (from pyngrok) (6.0.2)\n",
            "Downloading pyngrok-7.2.11-py3-none-any.whl (25 kB)\n",
            "Installing collected packages: pyngrok\n",
            "Successfully installed pyngrok-7.2.11\n"
          ]
        }
      ]
    },
    {
      "cell_type": "markdown",
      "source": [
        "**Step 2: Add your ngrok authtoken**"
      ],
      "metadata": {
        "id": "O6dvN2FblRRH"
      }
    },
    {
      "cell_type": "code",
      "source": [
        "# !ngrok config add-authtoken YOUR_AUTHTOKEN_HERE\n",
        "\n"
      ],
      "metadata": {
        "id": "jKy41jdLicyo"
      },
      "execution_count": null,
      "outputs": []
    },
    {
      "cell_type": "markdown",
      "source": [
        "**Step 3: Then run Flask app**"
      ],
      "metadata": {
        "id": "dh_XzevFlB6a"
      }
    },
    {
      "cell_type": "code",
      "source": [
        "app.run(port=5000)\n"
      ],
      "metadata": {
        "colab": {
          "base_uri": "https://localhost:8080/"
        },
        "id": "eItHxwJ3jO-N",
        "outputId": "91add97f-f6e3-4f00-bbf9-683075de6240"
      },
      "execution_count": null,
      "outputs": [
        {
          "output_type": "stream",
          "name": "stdout",
          "text": [
            " * Serving Flask app '__main__'\n",
            " * Debug mode: on\n"
          ]
        },
        {
          "output_type": "stream",
          "name": "stderr",
          "text": [
            "INFO:werkzeug:\u001b[31m\u001b[1mWARNING: This is a development server. Do not use it in a production deployment. Use a production WSGI server instead.\u001b[0m\n",
            " * Running on http://127.0.0.1:5000\n",
            "INFO:werkzeug:\u001b[33mPress CTRL+C to quit\u001b[0m\n",
            "INFO:werkzeug: * Restarting with stat\n"
          ]
        }
      ]
    },
    {
      "cell_type": "markdown",
      "source": [
        "**Step 4: Import & set up Flask app:**"
      ],
      "metadata": {
        "id": "iWNnbmM8k3vS"
      }
    },
    {
      "cell_type": "code",
      "source": [
        "from flask import Flask\n",
        "app = Flask(__name__)\n",
        "\n",
        "@app.route(\"/\")\n",
        "def home():\n",
        "    return \"<h1>✅ Hello from Flask!</h1>\"\n"
      ],
      "metadata": {
        "id": "OnLaPhwFjeKS"
      },
      "execution_count": null,
      "outputs": []
    },
    {
      "cell_type": "markdown",
      "source": [
        "**Step 5: Start Flask in the background (for Colab)**"
      ],
      "metadata": {
        "id": "vf_mmW5YkHEj"
      }
    },
    {
      "cell_type": "code",
      "source": [
        "import threading\n",
        "\n",
        "def run_app():\n",
        "    app.run(port=5000)\n",
        "\n",
        "thread = threading.Thread(target=run_app)\n",
        "thread.start()\n"
      ],
      "metadata": {
        "colab": {
          "base_uri": "https://localhost:8080/"
        },
        "id": "YFPO7u4BjfeO",
        "outputId": "f36ffa96-f7d9-45ca-9623-eaa947de3c82"
      },
      "execution_count": null,
      "outputs": [
        {
          "output_type": "stream",
          "name": "stdout",
          "text": [
            " * Serving Flask app '__main__'\n",
            " * Debug mode: off\n"
          ]
        }
      ]
    },
    {
      "cell_type": "markdown",
      "source": [
        "**Step 6 : Start ngrok tunnel**\n",
        "\n"
      ],
      "metadata": {
        "id": "9AUh4Kjrj7pG"
      }
    },
    {
      "cell_type": "code",
      "source": [
        "from pyngrok import ngrok\n",
        "\n",
        "public_url = ngrok.connect(5000)\n",
        "print(\"🌍 Public URL:\", public_url)\n"
      ],
      "metadata": {
        "colab": {
          "base_uri": "https://localhost:8080/"
        },
        "id": "kKOW8Iqwjj4T",
        "outputId": "7e371b17-fc21-4700-90d0-febce3e58559"
      },
      "execution_count": null,
      "outputs": [
        {
          "output_type": "stream",
          "name": "stdout",
          "text": [
            "🌍 Public URL: NgrokTunnel: \"https://2c05-35-232-210-240.ngrok-free.app\" -> \"http://localhost:5000\"\n"
          ]
        }
      ]
    },
    {
      "cell_type": "markdown",
      "source": [
        "###Q5. How can you generate URLs for routes in Flask using url_for?\n",
        "**Step 1: Copy Image from Drive**\n",
        "\n",
        "Assuming your image is in:"
      ],
      "metadata": {
        "id": "M34Ef6iAlzDH"
      }
    },
    {
      "cell_type": "code",
      "source": [
        "import os\n",
        "import shutil\n",
        "\n",
        "os.makedirs('static', exist_ok=True)\n",
        "shutil.copy('/content/drive/MyDrive/Flask_Static/Cat.jpg', 'static/Cat.jpg')\n"
      ],
      "metadata": {
        "colab": {
          "base_uri": "https://localhost:8080/",
          "height": 36
        },
        "id": "NKaXbsKLotDo",
        "outputId": "7758438e-5906-4a2a-9219-04d4d0b26c12"
      },
      "execution_count": null,
      "outputs": [
        {
          "output_type": "execute_result",
          "data": {
            "text/plain": [
              "'static/Cat.jpg'"
            ],
            "application/vnd.google.colaboratory.intrinsic+json": {
              "type": "string"
            }
          },
          "metadata": {},
          "execution_count": 17
        }
      ]
    },
    {
      "cell_type": "markdown",
      "source": [
        "**Step 2: Install ngrok**"
      ],
      "metadata": {
        "id": "MzrbhW4Vq2dh"
      }
    },
    {
      "cell_type": "code",
      "source": [
        "!pip install pyngrok\n"
      ],
      "metadata": {
        "colab": {
          "base_uri": "https://localhost:8080/"
        },
        "id": "KgxD9Zz0qC6x",
        "outputId": "06aa31c7-0e4d-4a5b-803d-07713c509620"
      },
      "execution_count": null,
      "outputs": [
        {
          "output_type": "stream",
          "name": "stdout",
          "text": [
            "Requirement already satisfied: pyngrok in /usr/local/lib/python3.11/dist-packages (7.2.11)\n",
            "Requirement already satisfied: PyYAML>=5.1 in /usr/local/lib/python3.11/dist-packages (from pyngrok) (6.0.2)\n"
          ]
        }
      ]
    },
    {
      "cell_type": "markdown",
      "source": [
        " **Step 3: Add your ngrok auth token**"
      ],
      "metadata": {
        "id": "zzxFXqCtq_kR"
      }
    },
    {
      "cell_type": "code",
      "source": [
        "# !ngrok config add-authtoken YOUR_AUTHTOKEN_HERE\n",
        "\n"
      ],
      "metadata": {
        "id": "ewfE-cgLqGmB"
      },
      "execution_count": null,
      "outputs": []
    },
    {
      "cell_type": "markdown",
      "source": [
        "**Step 4: Restart ngrok and Flask**\n",
        "Use a different port to avoid conflicts (like 5001):"
      ],
      "metadata": {
        "id": "GkAUR4NcrKfY"
      }
    },
    {
      "cell_type": "code",
      "source": [
        "from flask import Flask\n",
        "from pyngrok import ngrok\n",
        "\n",
        "# Kill any existing ngrok tunnels\n",
        "ngrok.kill()\n",
        "\n",
        "# Start Flask\n",
        "app = Flask(__name__)\n",
        "\n",
        "@app.route('/')\n",
        "def index():\n",
        "    return \"<h1>Hello from Flask!</h1>\"\n",
        "\n",
        "# Open new ngrok tunnel on port 5001\n",
        "public_url = ngrok.connect(5001)\n",
        "print(\"🌐 Public URL:\", public_url)\n",
        "\n",
        "app.run(port=5001)\n"
      ],
      "metadata": {
        "colab": {
          "base_uri": "https://localhost:8080/"
        },
        "id": "_ESvxZTKqiKq",
        "outputId": "b3085bf2-cda6-4d87-b168-287b24636d9c"
      },
      "execution_count": null,
      "outputs": [
        {
          "output_type": "stream",
          "name": "stdout",
          "text": [
            "🌐 Public URL: NgrokTunnel: \"https://bf77-35-232-210-240.ngrok-free.app\" -> \"http://localhost:5001\"\n",
            " * Serving Flask app '__main__'\n",
            " * Debug mode: off\n"
          ]
        },
        {
          "output_type": "stream",
          "name": "stderr",
          "text": [
            "INFO:werkzeug:\u001b[31m\u001b[1mWARNING: This is a development server. Do not use it in a production deployment. Use a production WSGI server instead.\u001b[0m\n",
            " * Running on http://127.0.0.1:5001\n",
            "INFO:werkzeug:\u001b[33mPress CTRL+C to quit\u001b[0m\n",
            "INFO:werkzeug:127.0.0.1 - - [17/Jun/2025 02:14:05] \"GET / HTTP/1.1\" 200 -\n",
            "INFO:werkzeug:127.0.0.1 - - [17/Jun/2025 02:14:06] \"\u001b[33mGET /favicon.ico HTTP/1.1\u001b[0m\" 404 -\n"
          ]
        }
      ]
    },
    {
      "cell_type": "markdown",
      "source": [
        "###Q6.  How do you handle forms in Flask?\n",
        "Use render_template_string() in your Flask app"
      ],
      "metadata": {
        "id": "BQmccyXUsgLl"
      }
    },
    {
      "cell_type": "code",
      "source": [
        "from flask import Flask, request, render_template_string\n",
        "from pyngrok import ngrok\n",
        "import threading\n",
        "\n",
        "app = Flask(__name__)\n",
        "\n",
        "# HTML form saved as a string\n",
        "form_html = \"\"\"\n",
        "<h2>Enter Your Name</h2>\n",
        "<form method=\"POST\">\n",
        "  <input type=\"text\" name=\"username\" placeholder=\"Your name\">\n",
        "  <input type=\"submit\" value=\"Submit\">\n",
        "</form>\n",
        "\"\"\"\n",
        "\n",
        "# Route to handle form\n",
        "@app.route('/form', methods=['GET', 'POST'])\n",
        "def form():\n",
        "    if request.method == 'POST':\n",
        "        username = request.form.get('username')\n",
        "        return f\"<h3>Hello, {username}!</h3>\"\n",
        "    return render_template_string(form_html)\n",
        "\n",
        "# Run Flask in a thread\n",
        "def run_app():\n",
        "    app.run(port=5000)\n",
        "\n",
        "# Start ngrok tunnel and Flask server\n",
        "public_url = ngrok.connect(5000)\n",
        "print(\"🌐 Public URL:\", public_url)\n",
        "\n",
        "thread = threading.Thread(target=run_app)\n",
        "thread.start()\n"
      ],
      "metadata": {
        "colab": {
          "base_uri": "https://localhost:8080/"
        },
        "id": "k4o7SNoW3cW1",
        "outputId": "9bfa0df1-c9eb-49b3-c839-9d55c4ad50e7"
      },
      "execution_count": null,
      "outputs": [
        {
          "output_type": "stream",
          "name": "stdout",
          "text": [
            "🌐 Public URL: NgrokTunnel: \"https://9ba4-35-232-210-240.ngrok-free.app\" -> \"http://localhost:5000\"\n",
            " * Serving Flask app '__main__'\n",
            " * Debug mode: off\n"
          ]
        },
        {
          "output_type": "stream",
          "name": "stderr",
          "text": [
            "Address already in use\n",
            "Port 5000 is in use by another program. Either identify and stop that program, or start the server with a different port.\n"
          ]
        }
      ]
    },
    {
      "cell_type": "markdown",
      "source": [
        "###Q7. How can you validate form data in Flask?\n",
        " **1. Manual Validation with request.form (Basic)**\n",
        "\n",
        "This is a simple way to check if a field is empty or matches a pattern:"
      ],
      "metadata": {
        "id": "8HXGBgX80KHo"
      }
    },
    {
      "cell_type": "code",
      "source": [
        "from flask import Flask, request, render_template_string\n",
        "\n",
        "app = Flask(__name__)\n",
        "\n",
        "form_html = \"\"\"\n",
        "<form method=\"POST\">\n",
        "  <input type=\"text\" name=\"email\" placeholder=\"Enter email\">\n",
        "  <input type=\"submit\">\n",
        "</form>\n",
        "\"\"\"\n",
        "\n",
        "@app.route('/validate', methods=['GET', 'POST'])\n",
        "def validate():\n",
        "    if request.method == 'POST':\n",
        "        email = request.form.get('email')\n",
        "        if not email:\n",
        "            return \"❌ Email is required!\"\n",
        "        elif \"@\" not in email:\n",
        "            return \"❌ Invalid email format!\"\n",
        "        else:\n",
        "            return f\"✅ Email is valid: {email}\"\n",
        "    return render_template_string(form_html)\n"
      ],
      "metadata": {
        "id": "b-kmGE3d3mRT"
      },
      "execution_count": null,
      "outputs": []
    },
    {
      "cell_type": "markdown",
      "source": [
        "**2. Using Flask-WTF (Advanced and cleaner)**\n",
        "\n",
        "Flask-WTF is a Flask extension that uses WTForms for more structured validation."
      ],
      "metadata": {
        "id": "moHCp6Jq4Krc"
      }
    },
    {
      "cell_type": "code",
      "source": [
        "!pip install flask-wtf\n",
        "\n"
      ],
      "metadata": {
        "colab": {
          "base_uri": "https://localhost:8080/"
        },
        "id": "u0gH6Siw31Sp",
        "outputId": "431a09e3-e211-43b2-afca-4e73440c7b90"
      },
      "execution_count": null,
      "outputs": [
        {
          "output_type": "stream",
          "name": "stdout",
          "text": [
            "Collecting flask-wtf\n",
            "  Downloading flask_wtf-1.2.2-py3-none-any.whl.metadata (3.4 kB)\n",
            "Requirement already satisfied: flask in /usr/local/lib/python3.11/dist-packages (from flask-wtf) (3.1.1)\n",
            "Requirement already satisfied: itsdangerous in /usr/local/lib/python3.11/dist-packages (from flask-wtf) (2.2.0)\n",
            "Collecting wtforms (from flask-wtf)\n",
            "  Downloading wtforms-3.2.1-py3-none-any.whl.metadata (5.3 kB)\n",
            "Requirement already satisfied: blinker>=1.9.0 in /usr/local/lib/python3.11/dist-packages (from flask->flask-wtf) (1.9.0)\n",
            "Requirement already satisfied: click>=8.1.3 in /usr/local/lib/python3.11/dist-packages (from flask->flask-wtf) (8.2.1)\n",
            "Requirement already satisfied: jinja2>=3.1.2 in /usr/local/lib/python3.11/dist-packages (from flask->flask-wtf) (3.1.6)\n",
            "Requirement already satisfied: markupsafe>=2.1.1 in /usr/local/lib/python3.11/dist-packages (from flask->flask-wtf) (3.0.2)\n",
            "Requirement already satisfied: werkzeug>=3.1.0 in /usr/local/lib/python3.11/dist-packages (from flask->flask-wtf) (3.1.3)\n",
            "Downloading flask_wtf-1.2.2-py3-none-any.whl (12 kB)\n",
            "Downloading wtforms-3.2.1-py3-none-any.whl (152 kB)\n",
            "\u001b[2K   \u001b[90m━━━━━━━━━━━━━━━━━━━━━━━━━━━━━━━━━━━━━━━━\u001b[0m \u001b[32m152.5/152.5 kB\u001b[0m \u001b[31m3.9 MB/s\u001b[0m eta \u001b[36m0:00:00\u001b[0m\n",
            "\u001b[?25hInstalling collected packages: wtforms, flask-wtf\n",
            "Successfully installed flask-wtf-1.2.2 wtforms-3.2.1\n"
          ]
        }
      ]
    },
    {
      "cell_type": "code",
      "source": [
        "from flask import Flask, render_template_string\n",
        "from flask_wtf import FlaskForm\n",
        "from wtforms import StringField, SubmitField\n",
        "from wtforms.validators import DataRequired, Email\n",
        "\n",
        "app = Flask(__name__)\n",
        "app.secret_key = 'secret'  # Required for CSRF protection\n",
        "\n",
        "class EmailForm(FlaskForm):\n",
        "    email = StringField('Email', validators=[DataRequired(), Email()])\n",
        "    submit = SubmitField('Submit')\n",
        "\n",
        "@app.route('/wtf', methods=['GET', 'POST'])\n",
        "def wtf():\n",
        "    form = EmailForm()\n",
        "    if form.validate_on_submit():\n",
        "        return f\"✅ Valid Email: {form.email.data}\"\n",
        "    return render_template_string(\"\"\"\n",
        "        <form method=\"POST\">\n",
        "            {{ form.csrf_token }}\n",
        "            {{ form.email.label }} {{ form.email() }}\n",
        "            {{ form.submit() }}\n",
        "        </form>\n",
        "        {% for field, errors in form.errors.items() %}\n",
        "            {% for error in errors %}\n",
        "                <p style=\"color: red;\">❌ {{ error }}</p>\n",
        "            {% endfor %}\n",
        "        {% endfor %}\n",
        "    \"\"\", form=form)\n"
      ],
      "metadata": {
        "id": "EopiYTuW3iSG"
      },
      "execution_count": null,
      "outputs": []
    },
    {
      "cell_type": "markdown",
      "source": [
        "###Q8. How do you manage sessions in Flask?\n",
        "In Flask, sessions are used to store information (like user login status or preferences) across different requests from the same user.\n",
        "\n",
        "**Basic Session Management Example:**"
      ],
      "metadata": {
        "id": "PPW-kyK355wB"
      }
    },
    {
      "cell_type": "code",
      "source": [
        "from flask import Flask, session, redirect, url_for, request\n",
        "\n",
        "app = Flask(__name__)\n",
        "app.secret_key = 'your_secret_key'  # Required to use sessions\n",
        "\n",
        "@app.route('/')\n",
        "def index():\n",
        "    if 'username' in session:\n",
        "        return f\"Welcome back, {session['username']}!\"\n",
        "    return \"You are not logged in.\"\n",
        "\n",
        "@app.route('/login', methods=['GET', 'POST'])\n",
        "def login():\n",
        "    if request.method == 'POST':\n",
        "        session['username'] = request.form['username']\n",
        "        return redirect(url_for('index'))\n",
        "    return '''\n",
        "        <form method=\"post\">\n",
        "            <input type=\"text\" name=\"username\" placeholder=\"Enter username\">\n",
        "            <input type=\"submit\" value=\"Login\">\n",
        "        </form>\n",
        "    '''\n",
        "\n",
        "@app.route('/logout')\n",
        "def logout():\n",
        "    session.pop('username', None)\n",
        "    return redirect(url_for('index'))\n"
      ],
      "metadata": {
        "id": "RKNUkuh76VFK"
      },
      "execution_count": null,
      "outputs": []
    },
    {
      "cell_type": "markdown",
      "source": [
        "###Q9. How do you redirect to a different route in Flask?\n",
        "In Flask, you redirect to a different route using the redirect() function, often combined with url_for()."
      ],
      "metadata": {
        "id": "cSMuVOCd6gwo"
      }
    },
    {
      "cell_type": "code",
      "source": [
        "from flask import Flask, redirect, url_for\n",
        "\n",
        "app = Flask(__name__)\n",
        "\n",
        "@app.route('/')\n",
        "def home():\n",
        "    return 'This is the home page.'\n",
        "\n",
        "@app.route('/login')\n",
        "def login():\n",
        "    # After login, redirect to the home page\n",
        "    return redirect(url_for('home'))\n"
      ],
      "metadata": {
        "id": "nR32wzvO61yD"
      },
      "execution_count": null,
      "outputs": []
    },
    {
      "cell_type": "markdown",
      "source": [
        "###Q10. How do you handle errors in Flask (e.g., 404)?\n",
        "In Flask, you can handle errors like 404 Not Found or 500 Internal Server Error using error handlers with the @app.errorhandler() decorator."
      ],
      "metadata": {
        "id": "7cM6-Gc-67nk"
      }
    },
    {
      "cell_type": "code",
      "source": [
        "from flask import Flask, render_template\n",
        "\n",
        "app = Flask(__name__)\n",
        "\n",
        "@app.route('/')\n",
        "def home():\n",
        "    return 'Welcome to the homepage!'\n",
        "\n",
        "# Custom 404 error handler\n",
        "@app.errorhandler(404)\n",
        "def page_not_found(error):\n",
        "    return 'Oops! Page not found (404).', 404\n"
      ],
      "metadata": {
        "id": "P7lTqg107IdZ"
      },
      "execution_count": null,
      "outputs": []
    },
    {
      "cell_type": "markdown",
      "source": [
        "###Q11. How do you structure a Flask app using Blueprints?\n",
        "Folder struture:\n",
        "\n",
        "myapp/\n",
        "│\n",
        "├── app.py\n",
        "├── home/\n",
        "│   ├── __init__.py\n",
        "│   └── routes.py\n"
      ],
      "metadata": {
        "id": "9sbVs-qv7O2r"
      }
    },
    {
      "cell_type": "markdown",
      "source": [
        "**Step 1: Create a simple Blueprint (home/routes.py)**"
      ],
      "metadata": {
        "id": "9a5Lt_eT_xup"
      }
    },
    {
      "cell_type": "code",
      "source": [
        "# home/routes.py\n",
        "from flask import Blueprint\n",
        "\n",
        "home_bp = Blueprint(\"home\", __name__)\n",
        "\n",
        "@home_bp.route(\"/\")\n",
        "def index():\n",
        "    return \"This is the home page from blueprint\"\n"
      ],
      "metadata": {
        "id": "i_N3Q9AS_ap0"
      },
      "execution_count": null,
      "outputs": []
    },
    {
      "cell_type": "markdown",
      "source": [
        "**Step 2: Register blueprint in your main app (app.py)**"
      ],
      "metadata": {
        "id": "pnLctGrN_776"
      }
    },
    {
      "cell_type": "code",
      "source": [
        "from flask import Flask\n",
        "from home.routes import home_bp\n",
        "\n",
        "app = Flask(__name__)\n",
        "app.register_blueprint(home_bp)\n",
        "\n",
        "if __name__ == \"__main__\":\n",
        "    app.run(port=5001)\n"
      ],
      "metadata": {
        "colab": {
          "base_uri": "https://localhost:8080/"
        },
        "id": "4-EKmdpr_b7k",
        "outputId": "4c6dd8fd-93f5-4384-9eba-3157d718e560"
      },
      "execution_count": null,
      "outputs": [
        {
          "output_type": "stream",
          "name": "stdout",
          "text": [
            " * Serving Flask app '__main__'\n",
            " * Debug mode: off\n"
          ]
        },
        {
          "output_type": "stream",
          "name": "stderr",
          "text": [
            "INFO:werkzeug:\u001b[31m\u001b[1mWARNING: This is a development server. Do not use it in a production deployment. Use a production WSGI server instead.\u001b[0m\n",
            " * Running on http://127.0.0.1:5001\n",
            "INFO:werkzeug:\u001b[33mPress CTRL+C to quit\u001b[0m\n"
          ]
        }
      ]
    },
    {
      "cell_type": "markdown",
      "source": [
        "**Step 3: Connect ngrok to your Flask app**\n",
        "\n",
        "⚠️ I changed the port to 5001 because port 5000 was already in use. The ngrok tunnel points to this port. Please note that ngrok URLs expire — live demo is temporary."
      ],
      "metadata": {
        "id": "nhzGhphxABcw"
      }
    },
    {
      "cell_type": "code",
      "source": [
        "public_url = ngrok.connect(5001)  # Change port to 5001 or 5002\n",
        "print(\"🚀 Public URL:\", public_url)\n",
        "\n",
        "def run():\n",
        "    app.run(port=5001)\n"
      ],
      "metadata": {
        "colab": {
          "base_uri": "https://localhost:8080/"
        },
        "id": "AU-3gr2q-hRu",
        "outputId": "9a9b9210-3edb-4454-c58a-7bb86633faee"
      },
      "execution_count": null,
      "outputs": [
        {
          "output_type": "stream",
          "name": "stdout",
          "text": [
            "🚀 Public URL: NgrokTunnel: \"https://b404-35-232-210-240.ngrok-free.app\" -> \"http://localhost:5001\"\n"
          ]
        }
      ]
    },
    {
      "cell_type": "markdown",
      "source": [
        "###Q12. How do you define a custom Jinja filter in Flask?\n",
        "To define a custom Jinja filter in Flask, you create a Python function and register it using the @app.template_filter() decorator or directly with app.add_template_filter().\n",
        "\n",
        "**Example:** Define the custom filter in your app.py:"
      ],
      "metadata": {
        "id": "bJRR3ZOyLYQH"
      }
    },
    {
      "cell_type": "code",
      "source": [
        "from flask import Flask, render_template_string\n",
        "\n",
        "app = Flask(__name__)\n",
        "\n",
        "# Step 1: Define a custom filter\n",
        "@app.template_filter('reverse')\n",
        "def reverse_filter(s):\n",
        "    return s[::-1]\n",
        "\n",
        "# Step 2: Use it in a route\n",
        "@app.route(\"/\")\n",
        "def home():\n",
        "    return render_template_string(\"{{ 'hello' | reverse }}\")  # Output: 'olleh'\n"
      ],
      "metadata": {
        "id": "zuPvnThoRJZW"
      },
      "execution_count": 9,
      "outputs": []
    },
    {
      "cell_type": "markdown",
      "source": [
        "###Q13. How can you redirect with query parameters in Flask?\n",
        "To redirect with query parameters in Flask, you use the redirect() function along with url_for() and the query string parameters passed as arguments.\n",
        "\n",
        "**Example:** Redirect with query parameters"
      ],
      "metadata": {
        "id": "0gPbJU5XM5UZ"
      }
    },
    {
      "cell_type": "code",
      "source": [
        "from flask import Flask, redirect, url_for, request\n",
        "\n",
        "app = Flask(__name__)\n",
        "\n",
        "@app.route(\"/\")\n",
        "def home():\n",
        "    # Redirect to /welcome with a query parameter\n",
        "    return redirect(url_for(\"welcome\", username=\"student\"))\n",
        "\n",
        "@app.route(\"/welcome\")\n",
        "def welcome():\n",
        "    username = request.args.get(\"username\")\n",
        "    return f\"Welcome, {username}!\"\n"
      ],
      "metadata": {
        "id": "zGEC3-xTRpop"
      },
      "execution_count": 10,
      "outputs": []
    },
    {
      "cell_type": "markdown",
      "source": [
        "###Q14. How do you return JSON responses in Flask?\n",
        "In Flask, you can return JSON responses using the jsonify() function from the flask module. This is the standard way to send structured JSON data from your API or web app.\n",
        "\n",
        "**Example:** Returning JSON Response"
      ],
      "metadata": {
        "id": "MD_tRVIvR0BK"
      }
    },
    {
      "cell_type": "code",
      "source": [
        "from flask import Flask, jsonify\n",
        "\n",
        "app = Flask(__name__)\n",
        "\n",
        "@app.route(\"/api/data\")\n",
        "def get_data():\n",
        "    data = {\n",
        "        \"name\": \"Alice\",\n",
        "        \"age\": 25,\n",
        "        \"status\": \"active\"\n",
        "    }\n",
        "    return jsonify(data)\n"
      ],
      "metadata": {
        "id": "xU_OD9PRSEqr"
      },
      "execution_count": 11,
      "outputs": []
    },
    {
      "cell_type": "markdown",
      "source": [
        "###Q15. How do you capture URL parameters in Flask?\n",
        "In Flask, URL parameters (also called path variables) are captured using angle brackets (< >) in the route definition. You then access them as function arguments.\n",
        "\n",
        "**Example:** Capturing a URL Parameter"
      ],
      "metadata": {
        "id": "prOsI2nMSTVp"
      }
    },
    {
      "cell_type": "code",
      "source": [
        "from flask import Flask\n",
        "\n",
        "app = Flask(__name__)\n",
        "\n",
        "@app.route('/user/<username>')\n",
        "def show_user_profile(username):\n",
        "    return f\"Hello, {username}!\"\n"
      ],
      "metadata": {
        "id": "uF7IfeyUSwm3"
      },
      "execution_count": 12,
      "outputs": []
    }
  ]
}